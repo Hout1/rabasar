{
 "cells": [
  {
   "cell_type": "code",
   "execution_count": 1,
   "metadata": {},
   "outputs": [],
   "source": [
    "import rasterio\n",
    "import matplotlib.pyplot as plt\n",
    "from pathlib import Path\n",
    "import numpy as np\n",
    "from tqdm import tqdm"
   ]
  },
  {
   "cell_type": "markdown",
   "metadata": {},
   "source": [
    "# Data Paths"
   ]
  },
  {
   "cell_type": "code",
   "execution_count": 2,
   "metadata": {},
   "outputs": [
    {
     "data": {
      "text/plain": [
       "[PosixPath('data_original/190620'),\n",
       " PosixPath('data_original/190701'),\n",
       " PosixPath('data_original/190716'),\n",
       " PosixPath('data_original/190725'),\n",
       " PosixPath('data_original/190812'),\n",
       " PosixPath('data_original/190923'),\n",
       " PosixPath('data_original/190930')]"
      ]
     },
     "execution_count": 2,
     "metadata": {},
     "output_type": "execute_result"
    }
   ],
   "source": [
    "data_directories = list(Path('.').glob('./data_original/*/'))\n",
    "data_directories = sorted(list(filter(lambda path: path.is_dir(), data_directories)))\n",
    "data_directories"
   ]
  },
  {
   "cell_type": "code",
   "execution_count": 3,
   "metadata": {},
   "outputs": [
    {
     "data": {
      "text/plain": [
       "PosixPath('data_original/190620')"
      ]
     },
     "execution_count": 3,
     "metadata": {},
     "output_type": "execute_result"
    }
   ],
   "source": [
    "data_dir = data_directories[0]\n",
    "data_dir"
   ]
  },
  {
   "cell_type": "code",
   "execution_count": 4,
   "metadata": {},
   "outputs": [
    {
     "data": {
      "text/plain": [
       "PosixPath('data_original/190620/gulfco_27802_19038_011_190620_L090_CX_129A_03.rtc')"
      ]
     },
     "execution_count": 4,
     "metadata": {},
     "output_type": "execute_result"
    }
   ],
   "source": [
    "rtc_file = list(data_dir.glob('./*.rtc'))[0]\n",
    "rtc_file"
   ]
  },
  {
   "cell_type": "code",
   "execution_count": 5,
   "metadata": {},
   "outputs": [
    {
     "data": {
      "text/plain": [
       "PosixPath('data_original/190620/gulfco_27802_19038_011_190620_L090_CX_129A_03.hgt')"
      ]
     },
     "execution_count": 5,
     "metadata": {},
     "output_type": "execute_result"
    }
   ],
   "source": [
    "hgt_file = list(data_dir.glob('./*.hgt'))[0]\n",
    "hgt_file"
   ]
  },
  {
   "cell_type": "code",
   "execution_count": 6,
   "metadata": {},
   "outputs": [
    {
     "data": {
      "text/plain": [
       "PosixPath('data_original/190620/gulfco_27802_19038_011_190620_L090_CX_129A_03.ann')"
      ]
     },
     "execution_count": 6,
     "metadata": {},
     "output_type": "execute_result"
    }
   ],
   "source": [
    "ann_file = list(data_dir.glob('./*.ann'))[0]\n",
    "ann_file"
   ]
  },
  {
   "cell_type": "code",
   "execution_count": 7,
   "metadata": {},
   "outputs": [
    {
     "data": {
      "text/plain": [
       "[PosixPath('data_original/190620/gulfco_27802_19038_011_190620_L090HHHH_CX_129A_03.grd'),\n",
       " PosixPath('data_original/190620/gulfco_27802_19038_011_190620_L090HVHV_CX_129A_03.grd'),\n",
       " PosixPath('data_original/190620/gulfco_27802_19038_011_190620_L090VVVV_CX_129A_03.grd')]"
      ]
     },
     "execution_count": 7,
     "metadata": {},
     "output_type": "execute_result"
    }
   ],
   "source": [
    "grd_files = sorted(list(data_dir.glob('./*.grd')))\n",
    "grd_files"
   ]
  },
  {
   "cell_type": "markdown",
   "metadata": {},
   "source": [
    "# Exploration of Data"
   ]
  },
  {
   "cell_type": "code",
   "execution_count": 8,
   "metadata": {},
   "outputs": [],
   "source": [
    "def format_annotation_file(ann_file):\n",
    "    \n",
    "    with open(ann_file) as f:\n",
    "        lines = f.readlines()\n",
    "    \n",
    "    # Remove Full Line Comments and new lines\n",
    "    lines = list(filter(lambda x: (x[0] != ';') and (x != '\\n'), lines))\n",
    "\n",
    "    # Remove Extra white space\n",
    "    lines = list(map(lambda x: x.strip(), lines))\n",
    "\n",
    "    # There is a rougue empty line so we remove\n",
    "    lines = list(filter(lambda x: len(x) != 0, lines))\n",
    "\n",
    "    # Remove trailing line comments\n",
    "    lines = list(map(lambda x: x.split(';')[0], lines))\n",
    "\n",
    "    def format_entry(line):\n",
    "        if '(' in line:\n",
    "            key = line.split('(')[0].strip()\n",
    "        else:\n",
    "            key = line.split('=')[0].strip()\n",
    "\n",
    "        value = line.split('=')[1].strip()\n",
    "        return key, value\n",
    "    \n",
    "    temp = [format_entry(line) for line in lines]\n",
    "    annotation_file_data = {t[0]: t[1] for t in temp}\n",
    "    return annotation_file_data"
   ]
  },
  {
   "cell_type": "code",
   "execution_count": 9,
   "metadata": {},
   "outputs": [
    {
     "data": {
      "text/plain": [
       "{'UAVSAR PolSAR Annotation File Version Number': '2.4',\n",
       " 'Site Description': 'Mike Island',\n",
       " 'URL': 'http://uavsar.jpl.nasa.gov/cgi-bin/product.pl?jobName',\n",
       " 'slcHH': 'gulfco_27802_19038_011_190620_L090HH_CX_129A_03.slc',\n",
       " 'slcHV': 'gulfco_27802_19038_011_190620_L090HV_CX_129A_03.slc',\n",
       " 'slcVH': 'gulfco_27802_19038_011_190620_L090VH_CX_129A_03.slc',\n",
       " 'slcVV': 'gulfco_27802_19038_011_190620_L090VV_CX_129A_03.slc',\n",
       " 'mlcHHHH': 'gulfco_27802_19038_011_190620_L090HHHH_CX_129A_03.mlc',\n",
       " 'mlcHVHV': 'gulfco_27802_19038_011_190620_L090HVHV_CX_129A_03.mlc',\n",
       " 'mlcVVVV': 'gulfco_27802_19038_011_190620_L090VVVV_CX_129A_03.mlc',\n",
       " 'mlcHHHV': 'gulfco_27802_19038_011_190620_L090HHHV_CX_129A_03.mlc',\n",
       " 'mlcHHVV': 'gulfco_27802_19038_011_190620_L090HHVV_CX_129A_03.mlc',\n",
       " 'mlcHVVV': 'gulfco_27802_19038_011_190620_L090HVVV_CX_129A_03.mlc',\n",
       " 'grdHHHH': 'gulfco_27802_19038_011_190620_L090HHHH_CX_129A_03.grd',\n",
       " 'grdHVHV': 'gulfco_27802_19038_011_190620_L090HVHV_CX_129A_03.grd',\n",
       " 'grdVVVV': 'gulfco_27802_19038_011_190620_L090VVVV_CX_129A_03.grd',\n",
       " 'grdHHHV': 'gulfco_27802_19038_011_190620_L090HHHV_CX_129A_03.grd',\n",
       " 'grdHHVV': 'gulfco_27802_19038_011_190620_L090HHVV_CX_129A_03.grd',\n",
       " 'grdHVVV': 'gulfco_27802_19038_011_190620_L090HVVV_CX_129A_03.grd',\n",
       " 'hgt': 'gulfco_27802_19038_011_190620_L090_CX_129A_03.hgt',\n",
       " 'inc': 'gulfco_27802_19038_011_190620_L090_CX_129A_03.inc',\n",
       " 'flat.inc': 'gulfco_27802_19038_011_190620_L090_CX_129A_03.flat.inc',\n",
       " 'slope': 'gulfco_27802_19038_011_190620_L090_CX_129A_03.slope',\n",
       " 'rtc': 'gulfco_27802_19038_011_190620_L090_CX_129A_03.rtc',\n",
       " 'kmz': 'gulfco_27802_19038_011_190620_L090_CX_129A_03.kmz',\n",
       " 'h5': 'gulfco_27802_19038_011_190620_L090_CX_129_03.h5',\n",
       " 'set_name': '',\n",
       " 'slc_mag.set_rows': '15360',\n",
       " 'slc_mag.set_cols': '2640',\n",
       " 'slc_phase.set_rows': '15360',\n",
       " 'slc_phase.set_cols': '2640',\n",
       " 'mlc_pwr.set_rows': '7680',\n",
       " 'mlc_pwr.set_cols': '2640',\n",
       " 'mlc_mag.set_rows': '7680',\n",
       " 'mlc_mag.set_cols': '2640',\n",
       " 'mlc_phase.set_rows': '7680',\n",
       " 'mlc_phase.set_cols': '2640',\n",
       " 'grd_pwr.set_rows': '3332',\n",
       " 'grd_pwr.set_cols': '9745',\n",
       " 'grd_mag.set_rows': '3332',\n",
       " 'grd_mag.set_cols': '9745',\n",
       " 'grd_phase.set_rows': '3332',\n",
       " 'grd_phase.set_cols': '9745',\n",
       " 'hgt.set_rows': '3332',\n",
       " 'hgt.set_cols': '9745',\n",
       " 'inc.set_rows': '3332',\n",
       " 'inc.set_cols': '9745',\n",
       " 'slope.set_rows': '3332',\n",
       " 'slope.set_cols': '9745',\n",
       " 'rtc.set_rows': '3332',\n",
       " 'rtc.set_cols': '9745',\n",
       " 'set_hddr': '0',\n",
       " 'set_tail': '0',\n",
       " 'slc_mag.set_proj': 'SCX',\n",
       " 'slc_phase.set_proj': 'SCX',\n",
       " 'mlc_pwr.set_proj': 'SCX',\n",
       " 'mlc_mag.set_proj': 'SCX',\n",
       " 'mlc_phase.set_proj': 'SCX',\n",
       " 'grd_pwr.set_proj': 'EQA',\n",
       " 'grd_mag.set_proj': 'EQA',\n",
       " 'grd_phase.set_proj': 'EQA',\n",
       " 'hgt.set_proj': 'EQA',\n",
       " 'inc.set_proj': 'EQA',\n",
       " 'slope.set_proj': 'EQA',\n",
       " 'set_plat': '29.577595006',\n",
       " 'set_plon': '-91.089733261',\n",
       " 'set_phdg': '-81.419118598',\n",
       " 'slc_mag.row_addr': '-32582.4',\n",
       " 'slc_mag.col_addr': '13449.1353',\n",
       " 'slc_phase.row_addr': '-32582.4',\n",
       " 'slc_phase.col_addr': '13449.1353',\n",
       " 'mlc_pwr.row_addr': '-32579.4',\n",
       " 'mlc_pwr.col_addr': '13449.1353',\n",
       " 'mlc_mag.row_addr': '-32579.4',\n",
       " 'mlc_mag.col_addr': '13449.1353',\n",
       " 'mlc_phase.row_addr': '-32579.4',\n",
       " 'mlc_phase.col_addr': '13449.1353',\n",
       " 'grd_pwr.row_addr': '29.6182',\n",
       " 'grd_pwr.col_addr': '-91.7388',\n",
       " 'grd_mag.row_addr': '29.6182',\n",
       " 'grd_mag.col_addr': '-91.7388',\n",
       " 'grd_phase.row_addr': '29.6182',\n",
       " 'grd_phase.col_addr': '-91.7388',\n",
       " 'hgt.row_addr': '29.6182',\n",
       " 'hgt.col_addr': '-91.7388',\n",
       " 'inc.row_addr': '29.6182',\n",
       " 'inc.col_addr': '-91.7388',\n",
       " 'slope.row_addr': '29.6182',\n",
       " 'slope.col_addr': '-91.7388',\n",
       " 'rtc.row_addr': '29.6182',\n",
       " 'rtc.col_addr': '-91.7388',\n",
       " 'slc_mag.row_mult': '6.0',\n",
       " 'slc_mag.col_mult': '6.245676208',\n",
       " 'slc_phase.row_mult': '6.0',\n",
       " 'slc_phase.col_mult': '6.245676208',\n",
       " 'mlc_pwr.row_mult': '12.0',\n",
       " 'mlc_pwr.col_mult': '6.245676208',\n",
       " 'mlc_mag.row_mult': '12.0',\n",
       " 'mlc_mag.col_mult': '6.245676208',\n",
       " 'mlc_phase.row_mult': '12.0',\n",
       " 'mlc_phase.col_mult': '6.245676208',\n",
       " 'grd_pwr.row_mult': '-0.0001',\n",
       " 'grd_pwr.col_mult': '0.0001',\n",
       " 'grd_mag.row_mult': '-0.0001',\n",
       " 'grd_mag.col_mult': '0.0001',\n",
       " 'grd_phase.row_mult': '-0.0001',\n",
       " 'grd_phase.col_mult': '0.0001',\n",
       " 'hgt.row_mult': '-0.0001',\n",
       " 'hgt.col_mult': '0.0001',\n",
       " 'inc.row_mult': '-0.0001',\n",
       " 'inc.col_mult': '0.0001',\n",
       " 'slope.row_mult': '-0.0001',\n",
       " 'slope.col_mult': '0.0001',\n",
       " 'rtc.row_mult': '-0.0001',\n",
       " 'rtc.col_mult': '0.0001',\n",
       " 'slc_mag.val_size': '8',\n",
       " 'slc_phase.val_size': '8',\n",
       " 'mlc_pwr.val_size': '4',\n",
       " 'mlc_mag.val_size': '8',\n",
       " 'mlc_phase.val_size': '8',\n",
       " 'grd_pwr.val_size': '4',\n",
       " 'grd_mag.val_size': '8',\n",
       " 'grd_phase.val_size': '8',\n",
       " 'hgt.val_size': '4',\n",
       " 'inc.val_size': '4',\n",
       " 'slope.val_size': '8',\n",
       " 'rtc.val_size': '4',\n",
       " 'slc_mag.val_frmt': 'COMPLEX_MAGNITUDE',\n",
       " 'slc_phase.val_frmt': 'COMPLEX_PHASE',\n",
       " 'mlc_pwr.val_frmt': 'REAL*4',\n",
       " 'mlc_mag.val_frmt': 'COMPLEX_MAGNITUDE',\n",
       " 'mlc_phase.val_frmt': 'COMPLEX_PHASE',\n",
       " 'grd_pwr.val_frmt': 'REAL*4',\n",
       " 'grd_mag.val_frmt': 'COMPLEX_MAGNITUDE',\n",
       " 'grd_phase.val_frmt': 'COMPLEX_PHASE',\n",
       " 'hgt.val_frmt': 'REAL*4',\n",
       " 'inc.val_frmt': 'REAL*4',\n",
       " 'slope.val_frmt': 'REAL*4',\n",
       " 'rtc.val_frmt': 'REAL*4',\n",
       " 'val_endi': 'LITTLE ENDIAN',\n",
       " 'val_mult': '1.0',\n",
       " 'val_addr': '0.0',\n",
       " 'val_minv': '-1000000.',\n",
       " 'val_maxv': '10000000.',\n",
       " 'slc_phase.val_mult': '1.0',\n",
       " 'slc_phase.val_minv': '-3.14',\n",
       " 'slc_phase.val_maxv': '3.14',\n",
       " 'mlc_phase.val_mult': '1.0',\n",
       " 'mlc_phase.val_minv': '-3.14',\n",
       " 'mlc_phase.val_maxv': '3.14',\n",
       " 'grd_phase.val_mult': '1.0',\n",
       " 'grd_phase.val_minv': '-3.14',\n",
       " 'grd_phase.val_maxv': '3.14',\n",
       " 'dsp_cmap': 'grey',\n",
       " 'hgt.dsp_cmap': 'cmy',\n",
       " 'inc.dsp_cmap': 'grey',\n",
       " 'slope.dsp_cmap': 'grey',\n",
       " 'rtc.dsp_cmap': 'grey',\n",
       " 'slc_phase.dsp_cmap': 'cmy',\n",
       " 'mlc_phase.dsp_cmap': 'cmy',\n",
       " 'grd_phase.dsp_cmap': 'cmy',\n",
       " 'Acquisition Mode': 'PolSAR',\n",
       " 'Pulse Length': '40.0',\n",
       " 'Steering Angle': '90',\n",
       " 'Bandwidth': '80.0',\n",
       " 'Date of Acquisition': '20-Jun-2019 14:04:37 UTC',\n",
       " 'Start Time of Acquisition': '20-Jun-2019 14:04:37 UTC',\n",
       " 'Stop Time of Acquisition': '20-Jun-2019 14:12:53 UTC',\n",
       " 'Peg Latitude': '0.29577595006E+02',\n",
       " 'Peg Longitude': '-0.91089733261E+02',\n",
       " 'Peg Heading': '-0.81419118598E+02',\n",
       " 'Center Wavelength': '2.411846002e+01',\n",
       " 'Ellipsoid Semi-major Axis': '0.637813700E+07',\n",
       " 'Ellipsoid Eccentricity Squared': '0.669437999E-02',\n",
       " 'Look Direction': 'Left',\n",
       " 'Ping-Pong or Single Antenna Transmit': '1',\n",
       " 'Range Spacing per Bin': '6.245676208e+00',\n",
       " 'Image Starting Range': '1.344913530e+01',\n",
       " 'Nominal Azimuth Reference Length': '8192',\n",
       " 'Azimuth Resolution': '7.0',\n",
       " 'Azimuth Spacing': '6.000000000e+00',\n",
       " 'Sinc Interpolator Fractional Bandwidth': '0.900',\n",
       " 'Global Average Yaw': '0.0',\n",
       " 'Global Average Pitch': '0.0',\n",
       " 'Global Average Roll': '0.248501143E+00',\n",
       " 'Global Average ESA': '0.0',\n",
       " 'Global Average Altitude': '0.124802342E+05',\n",
       " 'Global Average Terrain Height': '-0.245162381E+02',\n",
       " 'Global Average Squint Angle': '0.0',\n",
       " 'Average Pulse Repetition Interval': '2.815749080e+01',\n",
       " 'Average Terrain Height': '-0.245165461E+02',\n",
       " 'Standard Deviation of Terrain Height': '0.120554696E+01',\n",
       " 'Average Altitude': '0.124802342E+05',\n",
       " 'Reskew Doppler': 'Zero Doppler',\n",
       " 'Reskew Doppler Near Mid Far': '0.00000000           0.00000000           0.00000000',\n",
       " 'Mocomp I Applied': 'Y',\n",
       " 'Mocomp II Applied': 'Y',\n",
       " 'Type of Secondary Motion Compensation Algorithm': 'RTI Mocomp',\n",
       " 'Fix Reference Path from Patch-to-Patch': 'Yes',\n",
       " 'Fix Doppler from Patch-to-Patch': 'Yes',\n",
       " 'Global or Local Reference Height in Mocomp Common': 'Local',\n",
       " 'Number of Range Looks in MLC': '1',\n",
       " 'Number of Azimuth Looks in MLC': '2',\n",
       " 'Number of Range Looks in GRD': '1',\n",
       " 'Number of Azimuth Looks in GRD': '2',\n",
       " 'Ground Projection Method': 'Nearest Neighbor',\n",
       " 'DEM Used in Ground Projection': 'SRTM1 v3',\n",
       " 'DEM Datum': 'WGS-84',\n",
       " 'DEM Source': 'http://uavsar.jpl.nasa.gov/doc/dem.htm',\n",
       " 'DEM Original Pixel Spacing': '1',\n",
       " 'DEM Citation Count': '0',\n",
       " 'Slope Calibration in GRD': 'No',\n",
       " 'Radiometric Terrain Correction Method': 'Hybrid Projection Angle',\n",
       " 'Approximate Upper Left Latitude': '29.612157256',\n",
       " 'Approximate Upper Left Longitude': '-91.705516192',\n",
       " 'Approximate Upper Right Latitude': '29.489142720',\n",
       " 'Approximate Upper Right Longitude': '-90.765134766',\n",
       " 'Approximate Lower Left Latitude': '29.413597391',\n",
       " 'Approximate Lower Left Longitude': '-91.738505172',\n",
       " 'Approximate Lower Right Latitude': '29.290819399',\n",
       " 'Approximate Lower Right Longitude': '-90.799919203',\n",
       " 'Precision DGPS Solution': 'Post-Processed',\n",
       " 'Simulated NISAR Range Bandwidth': '20.0',\n",
       " 'Simulated NISAR Center Frequency': '1243.0',\n",
       " 'Simulated NISAR Polarizations': 'HH HV',\n",
       " 'Simulated NISAR Near Range Incidence Angle': '33.88',\n",
       " 'Simulated NISAR Far Range Incidence Angle': '47.2',\n",
       " 'Simulated NISAR Near Range Look Angle': '29.9',\n",
       " 'Simulated NISAR Far Range Look Angle': '41.0',\n",
       " 'Fraction of Swath with NISAR Doppler Overlap': '1.00',\n",
       " 'Simulated NISAR Product Version Number': '1.0',\n",
       " 'Date of Processing': '15-May-2020',\n",
       " 'Processor Version Number': '37fba6fdd741e634559d14fa7bcdd87854a2ab1b',\n",
       " 'Post Processor Version Number': '37fba6fdd741e634559d14fa7bcdd87854a2ab1b',\n",
       " 'Processor Release Notes': 'N/A',\n",
       " 'Hardware Version Number': 'N/A',\n",
       " 'Antenna Pattern Radiometric Correction Applied': 'Yes',\n",
       " 'Range Dependent Radiometric Correction Applied': 'Yes',\n",
       " 'Area Correction Factor in Slant Plane Applied': 'Yes',\n",
       " 'RFI Removed': 'Yes (Quick RFI Removal)',\n",
       " 'Adaptive RFI Removal Applied': 'No',\n",
       " 'Cross Talk Removed': 'Yes',\n",
       " 'Apply Receive Cal Pulse Phase': 'Yes',\n",
       " 'Apply Transmit Cal Pulse Phase': 'Yes',\n",
       " 'Elevation Boresight Bias HH LRTI80': '0.0',\n",
       " 'Elevation Boresight Bias VV LRTI80': '0.0',\n",
       " 'Sigma Nought Bias HH LRTI80': '0.1442962',\n",
       " 'Sigma Nought Bias VV LRTI80': '0.0491328',\n",
       " 'Sigma Nought Bias HV LRTI80': '0.0490367',\n",
       " 'Sigma Nought Bias VH LRTI80': '0.1407816',\n",
       " 'Sigma Nought Slope HH LRTI80': '0.00000',\n",
       " 'Sigma Nought Slope HV LRTI80': '0.00000',\n",
       " 'Sigma Nought Slope VH LRTI80': '0.00000',\n",
       " 'Sigma Nought Slope VV LRTI80': '0.00000',\n",
       " 'HH-VV Phase Bias LRTI80': '99.31',\n",
       " 'HV-VH Phase Bias LRTI80': '9.29',\n",
       " 'HH-VV Phase Slope LRTI80': '-0.18646',\n",
       " 'HV-VH Phase Slope LRTI80': '0.00000',\n",
       " 'HH-VV Phase Acceleration LRTI80': '0.00000',\n",
       " 'HV-VH Phase Acceleration LRTI80': '0.00000',\n",
       " 'HH-VV Phase Jerk LRTI80': '0.00000',\n",
       " 'HV-VH Phase Jerk LRTI80': '0.00000',\n",
       " 'Noise Calibration Constant LRTI80': '0.0',\n",
       " 'ISLR Noise Calibration Term LRTI80': '0.0',\n",
       " 'SLC Data Units': 'linear amplitude',\n",
       " 'MLC Data Units': 'linear power',\n",
       " 'GRD Data Units': 'linear power',\n",
       " 'HGT Data Units': 'meters',\n",
       " 'comments': '\"V99: replace-this-comment.\"'}"
      ]
     },
     "execution_count": 9,
     "metadata": {},
     "output_type": "execute_result"
    }
   ],
   "source": [
    "annotation_file_data = format_annotation_file(ann_file)\n",
    "annotation_file_data"
   ]
  },
  {
   "cell_type": "code",
   "execution_count": 10,
   "metadata": {},
   "outputs": [
    {
     "name": "stdout",
     "output_type": "stream",
     "text": [
      "-91.7388 29.6182 3332 9745 0.0001 -0.0001\n"
     ]
    }
   ],
   "source": [
    "ul_col_address = float(annotation_file_data['hgt.col_addr']) # 'Approximate Upper Left Latitude'])\n",
    "ul_row_address = float(annotation_file_data['hgt.row_addr']) #Approximate Upper Left Longitude'])\n",
    "\n",
    "height = int(annotation_file_data['hgt.set_rows'])\n",
    "dy = float(annotation_file_data['hgt.row_mult'])\n",
    "\n",
    "width = int(annotation_file_data['hgt.set_cols'])\n",
    "dx = float(annotation_file_data['hgt.col_mult'])\n",
    "print(ul_col_address,ul_row_address,  height, width, dx, dy)"
   ]
  },
  {
   "cell_type": "code",
   "execution_count": 11,
   "metadata": {},
   "outputs": [
    {
     "data": {
      "text/plain": [
       "Affine(0.0001, 0.0, -91.7388,\n",
       "       0.0, -0.0001, 29.6182)"
      ]
     },
     "execution_count": 11,
     "metadata": {},
     "output_type": "execute_result"
    }
   ],
   "source": [
    "transform = rasterio.transform.from_origin(ul_col_address, ul_row_address, dx, -dy)\n",
    "transform"
   ]
  },
  {
   "cell_type": "code",
   "execution_count": 12,
   "metadata": {},
   "outputs": [
    {
     "data": {
      "text/plain": [
       "Affine(0.0001, 0.0, -91.73885,\n",
       "       0.0, -0.0001, 29.618250000000003)"
      ]
     },
     "execution_count": 12,
     "metadata": {},
     "output_type": "execute_result"
    }
   ],
   "source": [
    "transform_t = rasterio.transform.from_origin(ul_col_address - dx/2, ul_row_address - dy/2, dx, -dy)\n",
    "transform_t"
   ]
  },
  {
   "cell_type": "code",
   "execution_count": 13,
   "metadata": {},
   "outputs": [],
   "source": [
    "profile_from_ann = {'driver': 'GTiff',\n",
    "                    'dtype': 'float32', \n",
    "                    'nodata': np.nan, \n",
    "                    'width': width, \n",
    "                    'height': height, \n",
    "                    'count': 1, \n",
    "                    'crs': {'init': 'epsg:4326'}, \n",
    "                    'transform': transform_t,\n",
    "                    'tiled': False, \n",
    "                    'interleave': 'band'}"
   ]
  },
  {
   "cell_type": "code",
   "execution_count": 14,
   "metadata": {},
   "outputs": [],
   "source": [
    "Y = np.memmap(rtc_file, \n",
    "              shape=(height, width),\n",
    "              dtype='float32', \n",
    "              mode='c'\n",
    "         )"
   ]
  },
  {
   "cell_type": "code",
   "execution_count": 15,
   "metadata": {},
   "outputs": [
    {
     "data": {
      "text/plain": [
       "<matplotlib.image.AxesImage at 0x7ffaa9260150>"
      ]
     },
     "execution_count": 15,
     "metadata": {},
     "output_type": "execute_result"
    },
    {
     "data": {
      "image/png": "[encoded data removed]",
      "text/plain": [
       "<Figure size 432x288 with 1 Axes>"
      ]
     },
     "metadata": {
      "needs_background": "light"
     },
     "output_type": "display_data"
    }
   ],
   "source": [
    "plt.imshow(Y, vmin=0)"
   ]
  },
  {
   "cell_type": "code",
   "execution_count": 16,
   "metadata": {},
   "outputs": [
    {
     "data": {
      "text/plain": [
       "<matplotlib.image.AxesImage at 0x7ffa48086c90>"
      ]
     },
     "execution_count": 16,
     "metadata": {},
     "output_type": "execute_result"
    },
    {
     "data": {
      "image/png": "[encoded data removed]",
      "text/plain": [
       "<Figure size 432x288 with 1 Axes>"
      ]
     },
     "metadata": {
      "needs_background": "light"
     },
     "output_type": "display_data"
    }
   ],
   "source": [
    "plt.imshow(Y == 0)"
   ]
  },
  {
   "cell_type": "code",
   "execution_count": 17,
   "metadata": {},
   "outputs": [],
   "source": [
    "X = np.memmap(grd_files[0], \n",
    "              shape=(height, width),\n",
    "              dtype='float32', \n",
    "              mode='c'\n",
    "              )"
   ]
  },
  {
   "cell_type": "code",
   "execution_count": 18,
   "metadata": {},
   "outputs": [
    {
     "data": {
      "text/plain": [
       "<matplotlib.image.AxesImage at 0x7ffa889be410>"
      ]
     },
     "execution_count": 18,
     "metadata": {},
     "output_type": "execute_result"
    },
    {
     "data": {
      "image/png": "[encoded data removed]",
      "text/plain": [
       "<Figure size 432x288 with 1 Axes>"
      ]
     },
     "metadata": {
      "needs_background": "light"
     },
     "output_type": "display_data"
    }
   ],
   "source": [
    "plt.imshow(X, vmin=0, vmax=.55)"
   ]
  },
  {
   "cell_type": "markdown",
   "metadata": {},
   "source": [
    "# Automate"
   ]
  },
  {
   "cell_type": "code",
   "execution_count": 19,
   "metadata": {},
   "outputs": [],
   "source": [
    "def get_uavsar_profile(ann_file_path):\n",
    "    annotation_file_data = format_annotation_file(ann_file_path)\n",
    "    \n",
    "    ul_col_address = float(annotation_file_data['hgt.col_addr']) # 'Approximate Upper Left Latitude'])\n",
    "    ul_row_address = float(annotation_file_data['hgt.row_addr']) #Approximate Upper Left Longitude'])\n",
    "\n",
    "    height = int(annotation_file_data['hgt.set_rows'])\n",
    "    dy = float(annotation_file_data['hgt.row_mult'])\n",
    "\n",
    "    width = int(annotation_file_data['hgt.set_cols'])\n",
    "    dx = float(annotation_file_data['hgt.col_mult'])\n",
    "    \n",
    "    transform_t = rasterio.transform.from_origin(ul_col_address - dx/2, ul_row_address - dy/2, dx, -dy)\n",
    "\n",
    "    profile_from_ann = {'driver': 'GTiff',\n",
    "                    'dtype': 'float32', \n",
    "                    'nodata': np.nan, \n",
    "                    'width': width, \n",
    "                    'height': height, \n",
    "                    'count': 1, \n",
    "                    'crs': {'init': 'epsg:4326'}, \n",
    "                    'transform': transform_t,\n",
    "                    'tiled': False, \n",
    "                    'interleave': 'band'}\n",
    "    \n",
    "    return profile_from_ann\n",
    "\n",
    "def write_uavsar_geotiff(data_directory):\n",
    "    ann_file_path = list(data_directory.glob('./*.ann'))[0]\n",
    "    rtc_file_path = list(data_directory.glob('./*.rtc'))[0]\n",
    "    \n",
    "    grd_file_paths = sorted(list(data_directory.glob('./*.grd')))\n",
    "    hgt_file_paths = list(data_directory.glob('./*.hgt'))\n",
    "    # There should only be one DEM\n",
    "    assert(len(hgt_file_paths) == 1)\n",
    "    \n",
    "    dest_directory = Path('data_original_tiff')/data_directory.name\n",
    "    dest_directory.mkdir(exist_ok=True, parents=True)\n",
    "    \n",
    "    uavsar_profile = get_uavsar_profile(ann_file_path)\n",
    "    \n",
    "    def open_one(path):\n",
    "        height, width = (uavsar_profile['height'], \n",
    "                         uavsar_profile['width'])\n",
    "        X = np.memmap(path, \n",
    "                      shape=(height, width),\n",
    "                      dtype='float32', \n",
    "                      mode='c'\n",
    "                     )\n",
    "        return X\n",
    "    \n",
    "    rtc = open_one(rtc_file_path)\n",
    "    \n",
    "    def write_one(X, dest_path):\n",
    "        with rasterio.open(dest_path, 'w', **uavsar_profile) as ds:\n",
    "            ds.write(X, 1)\n",
    "        return dest_path\n",
    "            \n",
    "    def write_tiff(path, dem=False):\n",
    "        X = open_one(path)\n",
    "        if not dem:\n",
    "            X = rtc * X\n",
    "            dest_path = dest_directory/(path.name[:-4] + '.tif')\n",
    "        else:\n",
    "            dest_path = dest_directory/(path.name[:-4] + '_dem.tif')\n",
    "\n",
    "        mask = (X == 0)\n",
    "        X[mask] = np.nan\n",
    "        dest_path = write_one(X, dest_path)\n",
    "        return dest_path\n",
    "    \n",
    "    write_tiff_dem = lambda path: write_tiff(path, dem=True)\n",
    "    \n",
    "    dest_path_grd = list(map(write_tiff, tqdm(grd_file_paths, desc='Backscatter')))\n",
    "    dest_path_hgt = list(map(write_tiff_dem, tqdm(hgt_file_paths, desc='DEM')))\n",
    "    \n",
    "    return dest_path_grd + dest_path_hgt"
   ]
  },
  {
   "cell_type": "code",
   "execution_count": 20,
   "metadata": {},
   "outputs": [
    {
     "name": "stderr",
     "output_type": "stream",
     "text": [
      "Data Directories:   0%|          | 0/7 [00:00<?, ?it/s]\n",
      "Backscatter:   0%|          | 0/3 [00:00<?, ?it/s]\u001b[A\n",
      "Backscatter:  33%|███▎      | 1/3 [00:00<00:01,  1.35it/s]\u001b[A\n",
      "Backscatter:  67%|██████▋   | 2/3 [00:01<00:00,  1.28it/s]\u001b[A\n",
      "Backscatter: 100%|██████████| 3/3 [00:02<00:00,  1.19it/s]\u001b[A\n",
      "\n",
      "DEM:   0%|          | 0/1 [00:00<?, ?it/s]\u001b[A\n",
      "DEM: 100%|██████████| 1/1 [00:00<00:00,  1.31it/s]\u001b[A\n",
      "Data Directories:  14%|█▍        | 1/7 [00:03<00:19,  3.29s/it]\n",
      "Backscatter:   0%|          | 0/3 [00:00<?, ?it/s]\u001b[A\n",
      "Backscatter:  33%|███▎      | 1/3 [00:01<00:02,  1.11s/it]\u001b[A\n",
      "Backscatter:  67%|██████▋   | 2/3 [00:01<00:01,  1.03s/it]\u001b[A\n",
      "Backscatter: 100%|██████████| 3/3 [00:02<00:00,  1.06it/s]\u001b[A\n",
      "\n",
      "DEM:   0%|          | 0/1 [00:00<?, ?it/s]\u001b[A\n",
      "DEM: 100%|██████████| 1/1 [00:00<00:00,  1.21it/s]\u001b[A\n",
      "Data Directories:  29%|██▊       | 2/7 [00:06<00:17,  3.41s/it]\n",
      "Backscatter:   0%|          | 0/3 [00:00<?, ?it/s]\u001b[A\n",
      "Backscatter:  33%|███▎      | 1/3 [00:01<00:02,  1.11s/it]\u001b[A\n",
      "Backscatter:  67%|██████▋   | 2/3 [00:01<00:01,  1.04s/it]\u001b[A\n",
      "Backscatter: 100%|██████████| 3/3 [00:02<00:00,  1.05it/s]\u001b[A\n",
      "\n",
      "DEM:   0%|          | 0/1 [00:00<?, ?it/s]\u001b[A\n",
      "DEM: 100%|██████████| 1/1 [00:00<00:00,  1.19it/s]\u001b[A\n",
      "Data Directories:  43%|████▎     | 3/7 [00:10<00:14,  3.52s/it]\n",
      "Backscatter:   0%|          | 0/3 [00:00<?, ?it/s]\u001b[A\n",
      "Backscatter:  33%|███▎      | 1/3 [00:01<00:03,  1.76s/it]\u001b[A\n",
      "Backscatter:  67%|██████▋   | 2/3 [00:02<00:01,  1.56s/it]\u001b[A\n",
      "Backscatter: 100%|██████████| 3/3 [00:03<00:00,  1.31s/it]\u001b[A\n",
      "\n",
      "DEM:   0%|          | 0/1 [00:00<?, ?it/s]\u001b[A\n",
      "DEM: 100%|██████████| 1/1 [00:00<00:00,  1.01it/s]\u001b[A\n",
      "Data Directories:  57%|█████▋    | 4/7 [00:15<00:11,  3.95s/it]\n",
      "Backscatter:   0%|          | 0/3 [00:00<?, ?it/s]\u001b[A\n",
      "Backscatter:  33%|███▎      | 1/3 [00:01<00:03,  1.69s/it]\u001b[A\n",
      "Backscatter:  67%|██████▋   | 2/3 [00:02<00:01,  1.50s/it]\u001b[A\n",
      "Backscatter: 100%|██████████| 3/3 [00:03<00:00,  1.27s/it]\u001b[A\n",
      "\n",
      "DEM:   0%|          | 0/1 [00:00<?, ?it/s]\u001b[A\n",
      "DEM: 100%|██████████| 1/1 [00:01<00:00,  1.07s/it]\u001b[A\n",
      "Data Directories:  71%|███████▏  | 5/7 [00:20<00:08,  4.24s/it]\n",
      "Backscatter:   0%|          | 0/3 [00:00<?, ?it/s]\u001b[A\n",
      "Backscatter:  33%|███▎      | 1/3 [00:01<00:03,  1.76s/it]\u001b[A\n",
      "Backscatter:  67%|██████▋   | 2/3 [00:02<00:01,  1.57s/it]\u001b[A\n",
      "Backscatter: 100%|██████████| 3/3 [00:04<00:00,  1.34s/it]\u001b[A\n",
      "\n",
      "DEM:   0%|          | 0/1 [00:00<?, ?it/s]\u001b[A\n",
      "DEM: 100%|██████████| 1/1 [00:00<00:00,  1.00it/s]\u001b[A\n",
      "Data Directories:  86%|████████▌ | 6/7 [00:25<00:04,  4.49s/it]\n",
      "Backscatter:   0%|          | 0/3 [00:00<?, ?it/s]\u001b[A\n",
      "Backscatter:  33%|███▎      | 1/3 [00:01<00:03,  1.70s/it]\u001b[A\n",
      "Backscatter:  67%|██████▋   | 2/3 [00:02<00:01,  1.48s/it]\u001b[A\n",
      "Backscatter: 100%|██████████| 3/3 [00:03<00:00,  1.24s/it]\u001b[A\n",
      "\n",
      "DEM:   0%|          | 0/1 [00:00<?, ?it/s]\u001b[A\n",
      "DEM: 100%|██████████| 1/1 [00:00<00:00,  1.07it/s]\u001b[A\n",
      "Data Directories: 100%|██████████| 7/7 [00:30<00:00,  4.34s/it]\n"
     ]
    },
    {
     "data": {
      "text/plain": [
       "[[PosixPath('data_original_tiff/190620/gulfco_27802_19038_011_190620_L090HHHH_CX_129A_03.tif'),\n",
       "  PosixPath('data_original_tiff/190620/gulfco_27802_19038_011_190620_L090HVHV_CX_129A_03.tif'),\n",
       "  PosixPath('data_original_tiff/190620/gulfco_27802_19038_011_190620_L090VVVV_CX_129A_03.tif'),\n",
       "  PosixPath('data_original_tiff/190620/gulfco_27802_19038_011_190620_L090_CX_129A_03_dem.tif')],\n",
       " [PosixPath('data_original_tiff/190701/gulfco_27802_19043_030_190701_L090HHHH_CX_129A_02.tif'),\n",
       "  PosixPath('data_original_tiff/190701/gulfco_27802_19043_030_190701_L090HVHV_CX_129A_02.tif'),\n",
       "  PosixPath('data_original_tiff/190701/gulfco_27802_19043_030_190701_L090VVVV_CX_129A_02.tif'),\n",
       "  PosixPath('data_original_tiff/190701/gulfco_27802_19043_030_190701_L090_CX_129A_02_dem.tif')],\n",
       " [PosixPath('data_original_tiff/190716/gulfco_27802_19048_007_190716_L090HHHH_CX_129A_03.tif'),\n",
       "  PosixPath('data_original_tiff/190716/gulfco_27802_19048_007_190716_L090HVHV_CX_129A_03.tif'),\n",
       "  PosixPath('data_original_tiff/190716/gulfco_27802_19048_007_190716_L090VVVV_CX_129A_03.tif'),\n",
       "  PosixPath('data_original_tiff/190716/gulfco_27802_19048_007_190716_L090_CX_129A_03_dem.tif')],\n",
       " [PosixPath('data_original_tiff/190725/gulfco_27802_19051_008_190725_L090HHHH_CX_129A_03.tif'),\n",
       "  PosixPath('data_original_tiff/190725/gulfco_27802_19051_008_190725_L090HVHV_CX_129A_03.tif'),\n",
       "  PosixPath('data_original_tiff/190725/gulfco_27802_19051_008_190725_L090VVVV_CX_129A_03.tif'),\n",
       "  PosixPath('data_original_tiff/190725/gulfco_27802_19051_008_190725_L090_CX_129A_03_dem.tif')],\n",
       " [PosixPath('data_original_tiff/190812/gulfco_27802_19053_019_190812_L090HHHH_CX_129A_03.tif'),\n",
       "  PosixPath('data_original_tiff/190812/gulfco_27802_19053_019_190812_L090HVHV_CX_129A_03.tif'),\n",
       "  PosixPath('data_original_tiff/190812/gulfco_27802_19053_019_190812_L090VVVV_CX_129A_03.tif'),\n",
       "  PosixPath('data_original_tiff/190812/gulfco_27802_19053_019_190812_L090_CX_129A_03_dem.tif')],\n",
       " [PosixPath('data_original_tiff/190923/gulfco_27802_19069_008_190923_L090HHHH_CX_129A_02.tif'),\n",
       "  PosixPath('data_original_tiff/190923/gulfco_27802_19069_008_190923_L090HVHV_CX_129A_02.tif'),\n",
       "  PosixPath('data_original_tiff/190923/gulfco_27802_19069_008_190923_L090VVVV_CX_129A_02.tif'),\n",
       "  PosixPath('data_original_tiff/190923/gulfco_27802_19069_008_190923_L090_CX_129A_02_dem.tif')],\n",
       " [PosixPath('data_original_tiff/190930/gulfco_27802_19070_010_190930_L090HHHH_CX_129A_02.tif'),\n",
       "  PosixPath('data_original_tiff/190930/gulfco_27802_19070_010_190930_L090HVHV_CX_129A_02.tif'),\n",
       "  PosixPath('data_original_tiff/190930/gulfco_27802_19070_010_190930_L090VVVV_CX_129A_02.tif'),\n",
       "  PosixPath('data_original_tiff/190930/gulfco_27802_19070_010_190930_L090_CX_129A_02_dem.tif')]]"
      ]
     },
     "execution_count": 20,
     "metadata": {},
     "output_type": "execute_result"
    }
   ],
   "source": [
    "list(map(write_uavsar_geotiff, tqdm(data_directories, desc='Data Directories')))"
   ]
  }
 ],
 "metadata": {
  "kernel_info": {
   "name": "python3"
  },
  "kernelspec": {
   "display_name": "Python 3",
   "language": "python",
   "name": "python3"
  },
  "language_info": {
   "codemirror_mode": {
    "name": "ipython",
    "version": 3
   },
   "file_extension": ".py",
   "mimetype": "text/x-python",
   "name": "python",
   "nbconvert_exporter": "python",
   "pygments_lexer": "ipython3",
   "version": "3.7.8"
  },
  "nteract": {
   "version": "0.15.0"
  }
 },
 "nbformat": 4,
 "nbformat_minor": 2
}
