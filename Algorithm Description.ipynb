{
 "cells": [
  {
   "cell_type": "markdown",
   "metadata": {},
   "source": [
    "# Algorithm Description\n",
    "\n",
    "We have a speckle backscatter intensity image $I_0$ and we want to find $R$ such that:\n",
    "\n",
    "$$\n",
    "R = \\arg \\min_{I \\in \\mathbb R^{M \\times N}} \\mathcal{R}(I) + P(I | I_0).\n",
    "$$\n",
    "\n",
    "Above $\\mathcal{R}:\\mathbb R^{M \\times N} \\to \\mathbb R$ is an image regularizer such as the [total-variation norm](https://en.wikipedia.org/wiki/Total_variation_denoising) $|I|_1$ or [BM3D](http://www.cs.tut.fi/~foi/GCF-BM3D/). The noise model $P(I | I_0)$ is the fully-developed speckle model (see this [paper](https://arxiv.org/abs/1704.05335) and references therein). This tool is then applied to:\n",
    "+  the \"reference image\" (called the super-image in the paper): the temporally averaged image from the intensity stack.\n",
    "+  the ratio of each intensity image with the reference image (using a slightly different noise model than the fully developed speckle model).\n",
    "\n",
    "The final de-sepeckled image is then the (denoised ratio) $\\times$ (the denoised reference image). Each denoising step is solved using the [Alternating Direction Method of Multipliers](https://web.stanford.edu/~boyd/papers/admm_distr_stats.html) (ADMM).\n",
    "\n",
    "## References\n",
    "\n",
    "### Rabasar\n",
    "+ Zhao, et al. [RABASAR](https://hal.archives-ouvertes.fr/hal-01791355/), 2019.\n",
    "+ Zhao, et al. [Github Repo](https://github.com/WeiyingZhao/Multitemporal-SAR-image-denoising), 2019.\n",
    "\n",
    "### Spatial Denoising\n",
    "+  Bioucas-Dias and Figueiredo. [Multiplicative Noise Removal Using Variable\n",
    "Splitting and Constrained Optimization](https://arxiv.org/pdf/0912.1845.pdf), 2010.\n",
    "+ Delladelle, et al. [MuLoG: Multi-channel Logarithm with Gaussian denoising](https://arxiv.org/abs/1704.05335), 2017.\n",
    "\n",
    "### ADMM\n",
    "\n",
    "+ Boyd, et al. [Distributed Optimization and Statistical\n",
    "Learning via the Alternating Direction\n",
    "Method of Multipliers](https://web.stanford.edu/~boyd/papers/pdf/admm_distr_stats.pdf), 2010.\n",
    "+ Chan, et al. [Plug-and-Play ADMM for Image Restoration: Fixed Point Convergence and Applications](https://arxiv.org/abs/1605.01710), 2016."
   ]
  }
 ],
 "metadata": {
  "kernelspec": {
   "display_name": "Python 3",
   "language": "python",
   "name": "python3"
  },
  "language_info": {
   "codemirror_mode": {
    "name": "ipython",
    "version": 3
   },
   "file_extension": ".py",
   "mimetype": "text/x-python",
   "name": "python",
   "nbconvert_exporter": "python",
   "pygments_lexer": "ipython3",
   "version": "3.7.3"
  }
 },
 "nbformat": 4,
 "nbformat_minor": 2
}
